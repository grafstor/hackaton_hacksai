{
 "cells": [
  {
   "cell_type": "code",
   "execution_count": 1,
   "id": "82f4af78-e1a1-4819-9468-6fcb95da0cab",
   "metadata": {},
   "outputs": [],
   "source": [
    "from ultralytics.utils.plotting import plot_results"
   ]
  },
  {
   "cell_type": "code",
   "execution_count": 3,
   "id": "a3afd999-6c20-48f3-bed9-5c0776a3e289",
   "metadata": {},
   "outputs": [],
   "source": [
    "plot_results(file=\"runs/detect/train3/results.csv\", segment=False, pose=False, classify=False)"
   ]
  },
  {
   "cell_type": "code",
   "execution_count": null,
   "id": "4d5c4d85-0d7d-4ed8-8336-4a6c601bc749",
   "metadata": {},
   "outputs": [],
   "source": [
    "from ultralytics import YOLO\n",
    "\n",
    "model = YOLO(\"runs/detect/train3/weights/best.pt\")  # Load the best model checkpoint"
   ]
  }
 ],
 "metadata": {
  "kernelspec": {
   "display_name": "Python 3 (ipykernel)",
   "language": "python",
   "name": "python3"
  },
  "language_info": {
   "codemirror_mode": {
    "name": "ipython",
    "version": 3
   },
   "file_extension": ".py",
   "mimetype": "text/x-python",
   "name": "python",
   "nbconvert_exporter": "python",
   "pygments_lexer": "ipython3",
   "version": "3.10.12"
  }
 },
 "nbformat": 4,
 "nbformat_minor": 5
}
